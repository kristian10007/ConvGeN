{
 "cells": [
  {
   "cell_type": "code",
   "execution_count": 1,
   "id": "pretty-performer",
   "metadata": {},
   "outputs": [],
   "source": [
    "import math\n",
    "import numpy as np\n",
    "import matplotlib.pyplot as plt\n",
    "import matplotlib.colors\n",
    "from PIL import Image, ImageDraw, ImageFont\n",
    "from library.analysis import testSets, generators"
   ]
  },
  {
   "cell_type": "markdown",
   "id": "engaging-warehouse",
   "metadata": {},
   "source": [
    "# Constants"
   ]
  },
  {
   "cell_type": "code",
   "execution_count": 2,
   "id": "crazy-taxation",
   "metadata": {},
   "outputs": [],
   "source": [
    "kScore = \"cohens kappa score\"\n",
    "f1Score = \"f1 score\"\n",
    "\n",
    "kScoreSd = kScore + \" - SD\"\n",
    "f1ScoreSd = f1Score + \" - SD\""
   ]
  },
  {
   "cell_type": "markdown",
   "id": "extensive-future",
   "metadata": {},
   "source": [
    "# Settings"
   ]
  },
  {
   "cell_type": "code",
   "execution_count": 3,
   "id": "warming-department",
   "metadata": {},
   "outputs": [
    {
     "data": {
      "text/plain": [
       "['Repeater',\n",
       " 'ProWRAS',\n",
       " 'GAN',\n",
       " 'CTGAN',\n",
       " 'CTAB-GAN',\n",
       " 'ConvGeN-majority-5',\n",
       " 'ConvGeN-majority-full',\n",
       " 'ConvGeN-proximity-5',\n",
       " 'ConvGeN-proximity-full']"
      ]
     },
     "execution_count": 3,
     "metadata": {},
     "output_type": "execute_result"
    }
   ],
   "source": [
    "ignoreSet = [\"ozone_level\", \"yeast_me2\"]\n",
    "\n",
    "gans = [g.replace(\"SimpleGAN\", \"GAN\") for g in generators.keys()]\n",
    "algs = [\"LR\", \"RF\", \"GB\", \"KNN\", \"DoC\"]\n",
    "\n",
    "gans"
   ]
  },
  {
   "cell_type": "code",
   "execution_count": 4,
   "id": "edf5b592",
   "metadata": {},
   "outputs": [],
   "source": [
    "testSets = [t for t in testSets if t[0:7] == \"folding\"]"
   ]
  },
  {
   "cell_type": "code",
   "execution_count": 5,
   "id": "needed-birmingham",
   "metadata": {},
   "outputs": [],
   "source": [
    "def cleanupName(name):\n",
    "    return name.replace(\"folding_\", \"\").replace(\"imblearn_\", \"\").replace(\"kaggle_\", \"\")"
   ]
  },
  {
   "cell_type": "code",
   "execution_count": 6,
   "id": "8106bddf",
   "metadata": {},
   "outputs": [],
   "source": [
    "dataset = [cleanupName(d) for d in testSets]"
   ]
  },
  {
   "cell_type": "code",
   "execution_count": 7,
   "id": "96a601db",
   "metadata": {},
   "outputs": [],
   "source": [
    "def ganName(name):\n",
    "    return name.replace(\n",
    "        \"ConvGeN-majority-5\", \"ConvGeN(5,maj)\").replace(\n",
    "        \"ConvGeN-majority-full\", \"ConvGeN(min,maj)\").replace(\n",
    "        \"ConvGeN-proximity-5\", \"ConvGeN(5,prox)\").replace(\n",
    "        \"ConvGeN-proximity-full\", \"ConvGeN(min,prox)\")"
   ]
  },
  {
   "cell_type": "code",
   "execution_count": 8,
   "id": "d35b280b",
   "metadata": {},
   "outputs": [],
   "source": [
    "def filterConvGen(name):\n",
    "    return not name.startswith(\"ConvGeN\") or name == \"ConvGeN(min,maj)\""
   ]
  },
  {
   "cell_type": "markdown",
   "id": "selective-connecticut",
   "metadata": {},
   "source": [
    "# Load data from CSV files"
   ]
  },
  {
   "cell_type": "code",
   "execution_count": 9,
   "id": "intended-watts",
   "metadata": {},
   "outputs": [],
   "source": [
    "def loadDiagnoseData(ganType, datasetName):\n",
    "    fileName = f\"data_result/{ganType}/{datasetName}.csv\"\n",
    "    r = {}\n",
    "    try:\n",
    "        f1List = []\n",
    "        kList = []\n",
    "        indizes = [str(x) for x in range(100)]\n",
    "        with open(fileName) as f:\n",
    "            newBlock = True\n",
    "            n = \"\"\n",
    "            for line in f:\n",
    "                line = line.strip()\n",
    "                if newBlock:\n",
    "                    n = line\n",
    "                    if n == \"GAN\" or n == \"DoG\":\n",
    "                        n = \"DoC\"\n",
    "                    newBlock = False\n",
    "                elif line == \"---\":\n",
    "                    newBlock = True\n",
    "                    f1List = []\n",
    "                    kList = []\n",
    "                else:\n",
    "                    parts = line.split(\";\")\n",
    "                    if parts[0] == \"avg\":\n",
    "                        f1Avg = float(parts[5])\n",
    "                        f1Sd = math.sqrt(sum([(f1Avg - x)*(f1Avg - x) for x in f1List]) / len(f1List))\n",
    "                        kAvg = float(parts[6])\n",
    "                        kSd = math.sqrt(sum([(kAvg - x)*(kAvg - x) for x in kList]) / len(kList))\n",
    "                        r[n] = { f1Score: f1Avg, kScore: kAvg, f1ScoreSd: f1Sd, kScoreSd: kSd }\n",
    "                    elif parts[0] in indizes:\n",
    "                        f1List.append(float(parts[5]))\n",
    "                        kList.append(float(parts[6]))\n",
    "    except FileNotFoundError as e:\n",
    "        print(f\"Missing file: {fileName}\")\n",
    "    return r"
   ]
  },
  {
   "cell_type": "code",
   "execution_count": 10,
   "id": "classical-rescue",
   "metadata": {},
   "outputs": [],
   "source": [
    "statistic = { }\n",
    "\n",
    "for gan in gans:\n",
    "    if ganName(gan) not in statistic:\n",
    "        statistic[ganName(gan)] = {}\n",
    "    \n",
    "    for ds in testSets:\n",
    "        if ds != \"Average\":\n",
    "            statistic[ganName(gan)][cleanupName(ds)] = loadDiagnoseData(gan, ds)\n",
    "            \n",
    "            d = cleanupName(ds)\n",
    "            if d not in dataset:\n",
    "                dataset.append(d)\n",
    "\n",
    "gans = list(statistic.keys())"
   ]
  },
  {
   "cell_type": "code",
   "execution_count": 11,
   "id": "unable-entrance",
   "metadata": {},
   "outputs": [],
   "source": [
    "for gan in gans:\n",
    "    f1 = { n: 0.0 for n in algs }\n",
    "    k =  { n: 0.0 for n in algs }\n",
    "    f1Sd = { n: 0.0 for n in algs }\n",
    "    kSd =  { n: 0.0 for n in algs }\n",
    "    c = 0\n",
    "\n",
    "    for ds in dataset:\n",
    "        if ds != \"Average\":\n",
    "            c += 1\n",
    "            for n in algs:\n",
    "                if n in statistic[gan][ds].keys():\n",
    "                    f1[n] += statistic[gan][ds][n][f1Score]\n",
    "                    k[n] += statistic[gan][ds][n][kScore]\n",
    "                    f1Sd[n] += statistic[gan][ds][n][f1ScoreSd]\n",
    "                    kSd[n] += statistic[gan][ds][n][kScoreSd]\n",
    "\n",
    "    avg = {}\n",
    "    for n in algs:\n",
    "        avg[n] = { f1Score: f1[n] / c, f1ScoreSd: f1Sd[n] / c, kScore: k[n] / c, kScoreSd: kSd[n] / c }\n",
    "    statistic[gan][\"Average\"] = avg"
   ]
  },
  {
   "cell_type": "markdown",
   "id": "public-collins",
   "metadata": {},
   "source": [
    "# Show Statistics"
   ]
  },
  {
   "cell_type": "code",
   "execution_count": 12,
   "id": "extra-taiwan",
   "metadata": {},
   "outputs": [],
   "source": [
    "def drawTransparentRect(img, rect, color, opacity=1.0):\n",
    "    def mix(v, a, b):\n",
    "        return max(0, min(255, int((v * a) + ((1.0 - v) * b))))\n",
    "\n",
    "    def mixPixel(v, a, b):\n",
    "        return (mix(v, a[0], b[0]), mix(v, a[1], b[1]), mix(v, a[2], b[2]))\n",
    "\n",
    "\n",
    "    ((x0, y0), (x1, y1)) = rect\n",
    "    \n",
    "    for y in range(y0, y1):\n",
    "        for x in range(x0, x1):\n",
    "            p = (x, y)\n",
    "            c = mixPixel(opacity, color, img.getpixel(p))\n",
    "            img.putpixel(p, c)\n",
    "    "
   ]
  },
  {
   "cell_type": "code",
   "execution_count": 13,
   "id": "5fec8e83",
   "metadata": {},
   "outputs": [],
   "source": [
    "def drawDiagram(size, rowNames, data, colNames=[], colors=None, border=20, barIndent=10, fontSize=20, markers=[0.25, 0.5, 0.75, 1.00], maxY=1.0):\n",
    "    silver = (204, 204, 204)\n",
    "    black = (0,0,0)\n",
    "    white = (255, 255, 255)\n",
    "    \n",
    "    defaultColors = [ (31,119,180)\n",
    "                    , (255,127,14)\n",
    "                    , (44,160,44)\n",
    "                    , (214,40,40)\n",
    "                    , (148,103,189)\n",
    "                    , (140,86,75)\n",
    "                    , (227,119,194)\n",
    "                    , (127,127,127)\n",
    "                    , (40,40,214)\n",
    "                    ]\n",
    "\n",
    "    defaultColors = [ (209,188,115) # Gold\n",
    "                    , (145,196,223) # bright blue\n",
    "                    , (83,119,202)  # blue\n",
    "                    , (224,138,86)  # orange\n",
    "                    , (131,202,112) # green\n",
    "                    , (199,102,99)  # red\n",
    "                    , (143,110,176) # violet\n",
    "                    , (134,99,66)   # brown\n",
    "                    , (207,131,189) # pink\n",
    "                    ]\n",
    "    \n",
    "    def y(v):\n",
    "        return v / maxY\n",
    "\n",
    "    def med(v):\n",
    "        if type(v) is tuple:\n",
    "            return v[0]\n",
    "        return v\n",
    "\n",
    "    \n",
    "    if colors is None:\n",
    "        colors = defaultColors\n",
    "\n",
    "    print((len(data[0]), len(colNames), len(data), len(rowNames)))\n",
    "\n",
    "    font = ImageFont.truetype(\"FreeSans\", fontSize)\n",
    "    \n",
    "    markerSize = 0\n",
    "    for m in markers:\n",
    "        markerSize = max(markerSize, font.getsize(f\"{m:0.2f}\")[0])\n",
    "\n",
    "    areaTop = 2 * border + markerSize\n",
    "\n",
    "    barStep = (size[0] - border - areaTop) // len(data)\n",
    "    barSize = max(border, barStep - border)\n",
    "    barIndent = min(barIndent, barSize / (1 + len(data[0])))\n",
    "    barIndent = barSize / (2 + len(data[0]))\n",
    "    \n",
    "    print((size[0], barSize, barSize * len(data)))\n",
    "    \n",
    "    # Create new Image\n",
    "    w = max(size[0], size[1])\n",
    "    img = Image.new(\"RGB\", (w,w))\n",
    "    d = ImageDraw.Draw(img)\n",
    "    \n",
    "    # Set background to white.\n",
    "    d.rectangle(((0,0), (w,w)), fill=white)\n",
    "    \n",
    "    # draw row names\n",
    "    height = size[1]\n",
    "    left = w - height\n",
    "    textSize = 0\n",
    "    for (n, name) in enumerate(rowNames):\n",
    "        s = font.getsize(name)\n",
    "        offset = int(border + barSize - s[1] + 1.5) // 2\n",
    "        textSize = max(textSize, s[0])\n",
    "        pos = (left + border, areaTop + offset + (barStep * n))\n",
    "        d.text(pos, name, fill=black, font=font)\n",
    "        \n",
    "        \n",
    "    # Calculate sizes for bar drawing.\n",
    "    barLength = height - (4 * border) - textSize\n",
    "    areaSize = (barLength, barSize)\n",
    "    areaLeft = left + (2 * border) + textSize\n",
    "    \n",
    "    # Draw Lines for bar height comparing.\n",
    "    markerPos = [areaLeft + int(y(v) * barLength) for v in markers]\n",
    "    for p in markerPos:\n",
    "        d.line(((p, border), (p, size[0] - border)), fill=silver)\n",
    "        \n",
    "    # Draw bars.\n",
    "    for (n, row) in enumerate(data):\n",
    "        area = ((areaLeft, areaTop + (n * barStep) + (border // 2)), areaSize)\n",
    "\n",
    "        indices = list(range(len(row)))\n",
    "        indices.sort(key= lambda i: 1.0 - med(row[i]))\n",
    "\n",
    "        for (n, i) in enumerate(indices):\n",
    "            v = y(med(row[i]))\n",
    "            c = colors[i]\n",
    "            offset = barIndent * n\n",
    "            tl = (area[0][0], area[0][1] + offset)\n",
    "            br = (tl[0] + int(v * area[1][0]), area[1][1] + tl[1] - offset)\n",
    "            rect = (tl, br)\n",
    "            d.rectangle(rect, fill=c, outline=black)\n",
    "\n",
    "    for (n, row) in enumerate(data):\n",
    "        area = ((areaLeft, areaTop + (n * barStep) + (border // 2)), areaSize)\n",
    "\n",
    "        indices = list(range(len(row)))\n",
    "        indices.sort(key= lambda i: 1.0 - med(row[i]))\n",
    "\n",
    "        for (n, i) in enumerate(indices):\n",
    "            v = y(med(row[i]))\n",
    "            c = colors[i]\n",
    "            offset = barIndent * n\n",
    "            tl = (area[0][0], area[0][1] + offset)\n",
    "            br = (tl[0] + int(v * area[1][0]), area[1][1] + tl[1] - offset)\n",
    "\n",
    "            if type(row[i]) is tuple and (row[i][0] != 0.0 or row[i][1] != row[i][0] or row[i][2] != row[i][0]):\n",
    "                vLower = y(row[i][1])\n",
    "                vUpper = y(row[i][2])\n",
    "                xCenter = (tl[1] + br[1]) // 2\n",
    "                yUpper = tl[0] + int(vUpper * area[1][0])\n",
    "                yLower = tl[0] + int(vLower * area[1][0])\n",
    "\n",
    "                #d.line(((br[0], tl[1]), (br[0], br[1])), fill=black, width=5)\n",
    "                d.line(((yLower, xCenter), (yUpper, xCenter)), fill=white, width=5)\n",
    "                d.line(((yLower, xCenter - border), (yLower, xCenter + border)), fill=white, width=5)\n",
    "                d.line(((yUpper, xCenter - border), (yUpper, xCenter + border)), fill=white, width=5)\n",
    "\n",
    "                #d.line(((br[0], tl[1]), (br[0], br[1])), fill=c, width=3)\n",
    "                d.line(((yLower, xCenter), (yUpper, xCenter)), fill=c, width=3)\n",
    "                d.line(((yLower, xCenter - border), (yLower, xCenter + border)), fill=c, width=3)\n",
    "                d.line(((yUpper, xCenter - border), (yUpper, xCenter + border)), fill=c, width=3)\n",
    "\n",
    "\n",
    "    # Draw axis.\n",
    "    d.line(((areaLeft, areaTop), (areaLeft, size[0] - border)), fill=black)\n",
    "    d.line(((areaLeft, areaTop), (w - border, areaTop)), fill=black)\n",
    "    \n",
    "    # Draw y-axis text.\n",
    "    img = img.rotate(90)\n",
    "    d = ImageDraw.Draw(img)\n",
    "\n",
    "    for (m, p) in zip(markers, markerPos):\n",
    "        d.text((border, size[1] - (p - left)), f\"{m:0.2f}\", fill=black, font=font)\n",
    "    \n",
    "    # Draw legend.\n",
    "    if len(colNames) > 0:\n",
    "        colNameWidth = 0\n",
    "        colNameHeight = fontSize * len(colNames)\n",
    "        for c in colNames:\n",
    "            colNameWidth = max(colNameWidth, font.getsize(c)[0])\n",
    "        \n",
    "        rWidth = int(fontSize * 0.75)\n",
    "        rHeight = fontSize // 2\n",
    "        rPadd = (fontSize - rHeight) // 2\n",
    "        \n",
    "        tl = (size[0] - (int(2.5 * border) + colNameWidth + rWidth), 0)\n",
    "        br = (size[0], int(1.2 * border) + colNameHeight)\n",
    "        drawTransparentRect(img, (tl, br), white, 0.75)\n",
    "\n",
    "        for (n, c) in enumerate(colNames):\n",
    "            t = border + (fontSize * n)\n",
    "            l = size[0] - border - colNameWidth\n",
    "            d.rectangle(((l - border - rWidth, t + rPadd - 1), (l - border, t + rPadd + rHeight)), fill=colors[n], outline=black)\n",
    "            d.text((l, t), c, fill=black, font=font)\n",
    "    \n",
    "    return img.crop((0, 0, size[0], size[1]))"
   ]
  },
  {
   "cell_type": "code",
   "execution_count": 14,
   "id": "038344f7",
   "metadata": {},
   "outputs": [],
   "source": [
    "def showDiagnose(algo, score):\n",
    "    def valueOf(d, g):\n",
    "        d = cleanupName(d)\n",
    "        if d not in statistic[g].keys():\n",
    "            print(f\"Missing '{d}' in '{g}'\")\n",
    "            return 0.0\n",
    "        \n",
    "        if algo in statistic[g][d].keys():\n",
    "            return statistic[g][d][algo][score]\n",
    "        else:\n",
    "            print(f\"Missing '{algo}' in ('{g}', '{d}')\")\n",
    "            return 0.0\n",
    "    \n",
    "    print(f\"{algo}: {score}\")\n",
    "    \n",
    "    data = [[valueOf(d, g) for g in gans] for d in testSets]        \n",
    "    img = drawDiagram((1024, 1024), [cleanupName(d) for d in testSets], data, colNames=gans)\n",
    "    img.save(f\"data_result/statistics/byAlgorithm/statistic-{algo}-{score}.png\")\n"
   ]
  },
  {
   "cell_type": "code",
   "execution_count": 15,
   "id": "8904b4b3",
   "metadata": {},
   "outputs": [],
   "source": [
    "def showDiagnoseAverage(score, onlyOneBar=False):\n",
    "    def valueOf(g, algo):\n",
    "        if algo in statistic[g][\"Average\"].keys():\n",
    "            if True: #not g.startswith(\"ConvGeN\"):\n",
    "                return statistic[g][\"Average\"][algo][score]\n",
    "            else:\n",
    "                a = statistic[g][\"Average\"][algo][score]\n",
    "                sd = statistic[g][\"Average\"][algo][score + \" - SD\"]\n",
    "                return (a, a - sd, a + sd)\n",
    "        else:\n",
    "            return 0.0\n",
    "\n",
    "    print(f\"Average: {score}\")\n",
    "    \n",
    "    data = [[valueOf(g, algo) for g in gans] for algo in algs]\n",
    "    img = drawDiagram((1024, 1024), algs, data, colNames=gans, maxY=0.75)\n",
    "    img.save(f\"data_result/statistics/average/statistic-Algo-Average-{score}.png\")"
   ]
  },
  {
   "cell_type": "code",
   "execution_count": 16,
   "id": "d1f4961a",
   "metadata": {},
   "outputs": [],
   "source": [
    "def showDiagnoseDataset(dataset):\n",
    "    print(f\"{dataset}\")\n",
    "    \n",
    "    def valueOf(algo, score, g):\n",
    "        if dataset in statistic[g]:\n",
    "            if algo in statistic[g][dataset]:\n",
    "                if score in statistic[g][dataset][algo]:\n",
    "                    return statistic[g][dataset][algo][score]\n",
    "                    \n",
    "        return 0.0\n",
    "    \n",
    "    scores = [f1Score, kScore]\n",
    "    \n",
    "    for score in scores:\n",
    "        data = [[valueOf(algo, score, g) for algo in algs] for g in gans]\n",
    "        img = drawDiagram((1024, 1024), gans, data, colNames=algs, maxY=0.75)\n",
    "        img.save(f\"data_result/statistics/byDataset/statistic-Classifier-{dataset}-{score}.png\")\n"
   ]
  },
  {
   "cell_type": "code",
   "execution_count": 17,
   "id": "magnetic-romance",
   "metadata": {},
   "outputs": [],
   "source": [
    "def showDiagnoseDatasetAverage():\n",
    "    print(\"Average\")\n",
    "    \n",
    "    dataset = \"Average\"\n",
    "    \n",
    "    def valueOf(algo, score, g):\n",
    "        if dataset in statistic[g]:\n",
    "            if algo in statistic[g][dataset]:\n",
    "                if score in statistic[g][dataset][algo]:\n",
    "                    if True: # algo != \"DoC\":\n",
    "                        return statistic[g][dataset][algo][score]\n",
    "                    else:\n",
    "                        a = statistic[g][dataset][algo][score]\n",
    "                        sd = statistic[g][\"Average\"][algo][score + \" - SD\"]\n",
    "                        return (a, a - sd, a + sd)\n",
    "                    \n",
    "        return 0.0\n",
    "    \n",
    "    scores = [f1Score, kScore]\n",
    "    \n",
    "    for score in scores:\n",
    "        data = [[valueOf(algo, score, g) for algo in algs] for g in gans]\n",
    "        img = drawDiagram((1024, 1024), gans, data, colNames=algs, maxY=0.75)\n",
    "        img.save(f\"data_result/statistics/byDataset/statistic-Classifier-{dataset}-{score}.png\")\n"
   ]
  },
  {
   "cell_type": "code",
   "execution_count": 18,
   "id": "57fe8925",
   "metadata": {
    "scrolled": false
   },
   "outputs": [
    {
     "name": "stdout",
     "output_type": "stream",
     "text": [
      "LR: f1 score\n",
      "(6, 6, 14, 14)\n",
      "(1024, 46, 644)\n",
      "LR: cohens kappa score\n",
      "(6, 6, 14, 14)\n",
      "(1024, 46, 644)\n",
      "RF: f1 score\n",
      "(6, 6, 14, 14)\n",
      "(1024, 46, 644)\n",
      "RF: cohens kappa score\n",
      "(6, 6, 14, 14)\n",
      "(1024, 46, 644)\n",
      "GB: f1 score\n",
      "(6, 6, 14, 14)\n",
      "(1024, 46, 644)\n",
      "GB: cohens kappa score\n",
      "(6, 6, 14, 14)\n",
      "(1024, 46, 644)\n",
      "KNN: f1 score\n",
      "(6, 6, 14, 14)\n",
      "(1024, 46, 644)\n",
      "KNN: cohens kappa score\n",
      "(6, 6, 14, 14)\n",
      "(1024, 46, 644)\n",
      "DoC: f1 score\n",
      "Missing 'DoC' in ('Repeater', 'abalone_17_vs_7_8_9_10')\n",
      "Missing 'DoC' in ('ProWRAS', 'abalone_17_vs_7_8_9_10')\n",
      "Missing 'DoC' in ('GAN', 'abalone_17_vs_7_8_9_10')\n",
      "Missing 'DoC' in ('CTGAN', 'abalone_17_vs_7_8_9_10')\n",
      "Missing 'DoC' in ('CTAB-GAN', 'abalone_17_vs_7_8_9_10')\n",
      "Missing 'DoC' in ('Repeater', 'abalone9-18')\n",
      "Missing 'DoC' in ('ProWRAS', 'abalone9-18')\n",
      "Missing 'DoC' in ('GAN', 'abalone9-18')\n",
      "Missing 'DoC' in ('CTGAN', 'abalone9-18')\n",
      "Missing 'DoC' in ('CTAB-GAN', 'abalone9-18')\n",
      "Missing 'DoC' in ('Repeater', 'car_good')\n",
      "Missing 'DoC' in ('ProWRAS', 'car_good')\n",
      "Missing 'DoC' in ('GAN', 'car_good')\n",
      "Missing 'DoC' in ('CTGAN', 'car_good')\n",
      "Missing 'DoC' in ('CTAB-GAN', 'car_good')\n",
      "Missing 'DoC' in ('Repeater', 'car-vgood')\n",
      "Missing 'DoC' in ('ProWRAS', 'car-vgood')\n",
      "Missing 'DoC' in ('GAN', 'car-vgood')\n",
      "Missing 'DoC' in ('CTGAN', 'car-vgood')\n",
      "Missing 'DoC' in ('CTAB-GAN', 'car-vgood')\n",
      "Missing 'DoC' in ('Repeater', 'flare-F')\n",
      "Missing 'DoC' in ('ProWRAS', 'flare-F')\n",
      "Missing 'DoC' in ('GAN', 'flare-F')\n",
      "Missing 'DoC' in ('CTGAN', 'flare-F')\n",
      "Missing 'DoC' in ('CTAB-GAN', 'flare-F')\n",
      "Missing 'DoC' in ('Repeater', 'hypothyroid')\n",
      "Missing 'DoC' in ('ProWRAS', 'hypothyroid')\n",
      "Missing 'DoC' in ('GAN', 'hypothyroid')\n",
      "Missing 'DoC' in ('CTGAN', 'hypothyroid')\n",
      "Missing 'DoC' in ('CTAB-GAN', 'hypothyroid')\n",
      "Missing 'DoC' in ('Repeater', 'kddcup-guess_passwd_vs_satan')\n",
      "Missing 'DoC' in ('ProWRAS', 'kddcup-guess_passwd_vs_satan')\n",
      "Missing 'DoC' in ('GAN', 'kddcup-guess_passwd_vs_satan')\n",
      "Missing 'DoC' in ('CTGAN', 'kddcup-guess_passwd_vs_satan')\n",
      "Missing 'DoC' in ('CTAB-GAN', 'kddcup-guess_passwd_vs_satan')\n",
      "Missing 'DoC' in ('Repeater', 'kr-vs-k-three_vs_eleven')\n",
      "Missing 'DoC' in ('ProWRAS', 'kr-vs-k-three_vs_eleven')\n",
      "Missing 'DoC' in ('GAN', 'kr-vs-k-three_vs_eleven')\n",
      "Missing 'DoC' in ('CTGAN', 'kr-vs-k-three_vs_eleven')\n",
      "Missing 'DoC' in ('CTAB-GAN', 'kr-vs-k-three_vs_eleven')\n",
      "Missing 'DoC' in ('Repeater', 'kr-vs-k-zero-one_vs_draw')\n",
      "Missing 'DoC' in ('ProWRAS', 'kr-vs-k-zero-one_vs_draw')\n",
      "Missing 'DoC' in ('GAN', 'kr-vs-k-zero-one_vs_draw')\n",
      "Missing 'DoC' in ('CTGAN', 'kr-vs-k-zero-one_vs_draw')\n",
      "Missing 'DoC' in ('CTAB-GAN', 'kr-vs-k-zero-one_vs_draw')\n",
      "Missing 'DoC' in ('Repeater', 'shuttle-2_vs_5')\n",
      "Missing 'DoC' in ('ProWRAS', 'shuttle-2_vs_5')\n",
      "Missing 'DoC' in ('GAN', 'shuttle-2_vs_5')\n",
      "Missing 'DoC' in ('CTGAN', 'shuttle-2_vs_5')\n",
      "Missing 'DoC' in ('CTAB-GAN', 'shuttle-2_vs_5')\n",
      "Missing 'DoC' in ('Repeater', 'winequality-red-4')\n",
      "Missing 'DoC' in ('ProWRAS', 'winequality-red-4')\n",
      "Missing 'DoC' in ('GAN', 'winequality-red-4')\n",
      "Missing 'DoC' in ('CTGAN', 'winequality-red-4')\n",
      "Missing 'DoC' in ('CTAB-GAN', 'winequality-red-4')\n",
      "Missing 'DoC' in ('Repeater', 'yeast4')\n",
      "Missing 'DoC' in ('ProWRAS', 'yeast4')\n",
      "Missing 'DoC' in ('GAN', 'yeast4')\n",
      "Missing 'DoC' in ('CTGAN', 'yeast4')\n",
      "Missing 'DoC' in ('CTAB-GAN', 'yeast4')\n",
      "Missing 'DoC' in ('Repeater', 'yeast5')\n",
      "Missing 'DoC' in ('ProWRAS', 'yeast5')\n",
      "Missing 'DoC' in ('GAN', 'yeast5')\n",
      "Missing 'DoC' in ('CTGAN', 'yeast5')\n",
      "Missing 'DoC' in ('CTAB-GAN', 'yeast5')\n",
      "Missing 'DoC' in ('Repeater', 'yeast6')\n",
      "Missing 'DoC' in ('ProWRAS', 'yeast6')\n",
      "Missing 'DoC' in ('GAN', 'yeast6')\n",
      "Missing 'DoC' in ('CTGAN', 'yeast6')\n",
      "Missing 'DoC' in ('CTAB-GAN', 'yeast6')\n",
      "(6, 6, 14, 14)\n",
      "(1024, 46, 644)\n",
      "DoC: cohens kappa score\n",
      "Missing 'DoC' in ('Repeater', 'abalone_17_vs_7_8_9_10')\n",
      "Missing 'DoC' in ('ProWRAS', 'abalone_17_vs_7_8_9_10')\n",
      "Missing 'DoC' in ('GAN', 'abalone_17_vs_7_8_9_10')\n",
      "Missing 'DoC' in ('CTGAN', 'abalone_17_vs_7_8_9_10')\n",
      "Missing 'DoC' in ('CTAB-GAN', 'abalone_17_vs_7_8_9_10')\n",
      "Missing 'DoC' in ('Repeater', 'abalone9-18')\n",
      "Missing 'DoC' in ('ProWRAS', 'abalone9-18')\n",
      "Missing 'DoC' in ('GAN', 'abalone9-18')\n",
      "Missing 'DoC' in ('CTGAN', 'abalone9-18')\n",
      "Missing 'DoC' in ('CTAB-GAN', 'abalone9-18')\n",
      "Missing 'DoC' in ('Repeater', 'car_good')\n",
      "Missing 'DoC' in ('ProWRAS', 'car_good')\n",
      "Missing 'DoC' in ('GAN', 'car_good')\n",
      "Missing 'DoC' in ('CTGAN', 'car_good')\n",
      "Missing 'DoC' in ('CTAB-GAN', 'car_good')\n",
      "Missing 'DoC' in ('Repeater', 'car-vgood')\n",
      "Missing 'DoC' in ('ProWRAS', 'car-vgood')\n",
      "Missing 'DoC' in ('GAN', 'car-vgood')\n",
      "Missing 'DoC' in ('CTGAN', 'car-vgood')\n",
      "Missing 'DoC' in ('CTAB-GAN', 'car-vgood')\n",
      "Missing 'DoC' in ('Repeater', 'flare-F')\n",
      "Missing 'DoC' in ('ProWRAS', 'flare-F')\n",
      "Missing 'DoC' in ('GAN', 'flare-F')\n",
      "Missing 'DoC' in ('CTGAN', 'flare-F')\n",
      "Missing 'DoC' in ('CTAB-GAN', 'flare-F')\n",
      "Missing 'DoC' in ('Repeater', 'hypothyroid')\n",
      "Missing 'DoC' in ('ProWRAS', 'hypothyroid')\n",
      "Missing 'DoC' in ('GAN', 'hypothyroid')\n",
      "Missing 'DoC' in ('CTGAN', 'hypothyroid')\n",
      "Missing 'DoC' in ('CTAB-GAN', 'hypothyroid')\n",
      "Missing 'DoC' in ('Repeater', 'kddcup-guess_passwd_vs_satan')\n",
      "Missing 'DoC' in ('ProWRAS', 'kddcup-guess_passwd_vs_satan')\n",
      "Missing 'DoC' in ('GAN', 'kddcup-guess_passwd_vs_satan')\n",
      "Missing 'DoC' in ('CTGAN', 'kddcup-guess_passwd_vs_satan')\n",
      "Missing 'DoC' in ('CTAB-GAN', 'kddcup-guess_passwd_vs_satan')\n",
      "Missing 'DoC' in ('Repeater', 'kr-vs-k-three_vs_eleven')\n",
      "Missing 'DoC' in ('ProWRAS', 'kr-vs-k-three_vs_eleven')\n",
      "Missing 'DoC' in ('GAN', 'kr-vs-k-three_vs_eleven')\n",
      "Missing 'DoC' in ('CTGAN', 'kr-vs-k-three_vs_eleven')\n",
      "Missing 'DoC' in ('CTAB-GAN', 'kr-vs-k-three_vs_eleven')\n",
      "Missing 'DoC' in ('Repeater', 'kr-vs-k-zero-one_vs_draw')\n",
      "Missing 'DoC' in ('ProWRAS', 'kr-vs-k-zero-one_vs_draw')\n",
      "Missing 'DoC' in ('GAN', 'kr-vs-k-zero-one_vs_draw')\n",
      "Missing 'DoC' in ('CTGAN', 'kr-vs-k-zero-one_vs_draw')\n",
      "Missing 'DoC' in ('CTAB-GAN', 'kr-vs-k-zero-one_vs_draw')\n",
      "Missing 'DoC' in ('Repeater', 'shuttle-2_vs_5')\n",
      "Missing 'DoC' in ('ProWRAS', 'shuttle-2_vs_5')\n",
      "Missing 'DoC' in ('GAN', 'shuttle-2_vs_5')\n",
      "Missing 'DoC' in ('CTGAN', 'shuttle-2_vs_5')\n",
      "Missing 'DoC' in ('CTAB-GAN', 'shuttle-2_vs_5')\n",
      "Missing 'DoC' in ('Repeater', 'winequality-red-4')\n",
      "Missing 'DoC' in ('ProWRAS', 'winequality-red-4')\n",
      "Missing 'DoC' in ('GAN', 'winequality-red-4')\n",
      "Missing 'DoC' in ('CTGAN', 'winequality-red-4')\n",
      "Missing 'DoC' in ('CTAB-GAN', 'winequality-red-4')\n",
      "Missing 'DoC' in ('Repeater', 'yeast4')\n",
      "Missing 'DoC' in ('ProWRAS', 'yeast4')\n",
      "Missing 'DoC' in ('GAN', 'yeast4')\n",
      "Missing 'DoC' in ('CTGAN', 'yeast4')\n",
      "Missing 'DoC' in ('CTAB-GAN', 'yeast4')\n",
      "Missing 'DoC' in ('Repeater', 'yeast5')\n",
      "Missing 'DoC' in ('ProWRAS', 'yeast5')\n",
      "Missing 'DoC' in ('GAN', 'yeast5')\n",
      "Missing 'DoC' in ('CTGAN', 'yeast5')\n",
      "Missing 'DoC' in ('CTAB-GAN', 'yeast5')\n",
      "Missing 'DoC' in ('Repeater', 'yeast6')\n",
      "Missing 'DoC' in ('ProWRAS', 'yeast6')\n",
      "Missing 'DoC' in ('GAN', 'yeast6')\n",
      "Missing 'DoC' in ('CTGAN', 'yeast6')\n",
      "Missing 'DoC' in ('CTAB-GAN', 'yeast6')\n",
      "(6, 6, 14, 14)\n",
      "(1024, 46, 644)\n",
      "Average: f1 score\n",
      "(6, 6, 5, 5)\n",
      "(1024, 165, 825)\n",
      "Average: cohens kappa score\n",
      "(6, 6, 5, 5)\n",
      "(1024, 165, 825)\n",
      "abalone_17_vs_7_8_9_10\n",
      "(5, 5, 6, 6)\n",
      "(1024, 134, 804)\n",
      "(5, 5, 6, 6)\n",
      "(1024, 134, 804)\n",
      "abalone9-18\n",
      "(5, 5, 6, 6)\n",
      "(1024, 134, 804)\n",
      "(5, 5, 6, 6)\n",
      "(1024, 134, 804)\n",
      "car_good\n",
      "(5, 5, 6, 6)\n",
      "(1024, 134, 804)\n",
      "(5, 5, 6, 6)\n",
      "(1024, 134, 804)\n",
      "car-vgood\n",
      "(5, 5, 6, 6)\n",
      "(1024, 134, 804)\n",
      "(5, 5, 6, 6)\n",
      "(1024, 134, 804)\n",
      "flare-F\n",
      "(5, 5, 6, 6)\n",
      "(1024, 134, 804)\n",
      "(5, 5, 6, 6)\n",
      "(1024, 134, 804)\n",
      "hypothyroid\n",
      "(5, 5, 6, 6)\n",
      "(1024, 134, 804)\n",
      "(5, 5, 6, 6)\n",
      "(1024, 134, 804)\n",
      "kddcup-guess_passwd_vs_satan\n",
      "(5, 5, 6, 6)\n",
      "(1024, 134, 804)\n",
      "(5, 5, 6, 6)\n",
      "(1024, 134, 804)\n",
      "kr-vs-k-three_vs_eleven\n",
      "(5, 5, 6, 6)\n",
      "(1024, 134, 804)\n",
      "(5, 5, 6, 6)\n",
      "(1024, 134, 804)\n",
      "kr-vs-k-zero-one_vs_draw\n",
      "(5, 5, 6, 6)\n",
      "(1024, 134, 804)\n",
      "(5, 5, 6, 6)\n",
      "(1024, 134, 804)\n",
      "shuttle-2_vs_5\n",
      "(5, 5, 6, 6)\n",
      "(1024, 134, 804)\n",
      "(5, 5, 6, 6)\n",
      "(1024, 134, 804)\n",
      "winequality-red-4\n",
      "(5, 5, 6, 6)\n",
      "(1024, 134, 804)\n",
      "(5, 5, 6, 6)\n",
      "(1024, 134, 804)\n",
      "yeast4\n",
      "(5, 5, 6, 6)\n",
      "(1024, 134, 804)\n",
      "(5, 5, 6, 6)\n",
      "(1024, 134, 804)\n",
      "yeast5\n",
      "(5, 5, 6, 6)\n",
      "(1024, 134, 804)\n",
      "(5, 5, 6, 6)\n",
      "(1024, 134, 804)\n",
      "yeast6\n",
      "(5, 5, 6, 6)\n",
      "(1024, 134, 804)\n",
      "(5, 5, 6, 6)\n",
      "(1024, 134, 804)\n",
      "Average\n",
      "(5, 5, 6, 6)\n",
      "(1024, 134, 804)\n",
      "(5, 5, 6, 6)\n",
      "(1024, 134, 804)\n"
     ]
    }
   ],
   "source": [
    "gans = [g for g in statistic.keys() if filterConvGen(g)]\n",
    "\n",
    "for a in algs:\n",
    "    showDiagnose(a, f1Score)\n",
    "    showDiagnose(a, kScore)\n",
    "    \n",
    "showDiagnoseAverage(f1Score)\n",
    "showDiagnoseAverage(kScore)\n",
    "\n",
    "for t in testSets:\n",
    "    showDiagnoseDataset(cleanupName(t))\n",
    "\n",
    "showDiagnoseDatasetAverage()\n",
    "\n",
    "gans = list(statistic.keys())"
   ]
  },
  {
   "cell_type": "code",
   "execution_count": 19,
   "id": "63841c55",
   "metadata": {},
   "outputs": [],
   "source": [
    "def getValueOf(gan, dataset, algo, score):\n",
    "    if dataset not in statistic[gan].keys():\n",
    "        #print(f\"Missing '{dataset}' in '{gan}'\")\n",
    "        return None\n",
    "\n",
    "    if algo not in statistic[gan][dataset].keys():\n",
    "        #print(f\"Missing '{algo}' in ('{gan}', '{dataset}')\")\n",
    "        return None\n",
    "    \n",
    "    if score not in statistic[gan][dataset][algo].keys():\n",
    "        #print(f\"Missing '{score}' in ('{gan}', '{dataset}', '{algo}')\")\n",
    "        return None\n",
    "    \n",
    "    return statistic[gan][dataset][algo][score]\n",
    "    \n",
    "    \n",
    "    \n",
    "def calcTable(algo, score, ignore=[]):\n",
    "    table = []\n",
    "    \n",
    "    def calc(gc, g):\n",
    "        n = 0\n",
    "        for d in testSets:\n",
    "            d = cleanupName(d)\n",
    "            if d not in ignore:\n",
    "                vc = getValueOf(gc, d, algo, score)\n",
    "                v = getValueOf(g, d, algo, score)\n",
    "                if vc is not None and v is not None and vc >= v:\n",
    "                    n += 1\n",
    "        return n\n",
    "    \n",
    "    for gc in gans:\n",
    "        table.append([calc(gc, g) for g in gans])\n",
    "    return table"
   ]
  },
  {
   "cell_type": "code",
   "execution_count": 20,
   "id": "177774b0",
   "metadata": {
    "scrolled": false
   },
   "outputs": [
    {
     "data": {
      "text/plain": [
       "[[14, 3, 2, 10, 11, 2, 2, 2, 1],\n",
       " [11, 14, 9, 10, 11, 11, 6, 12, 3],\n",
       " [12, 5, 14, 11, 11, 10, 5, 10, 5],\n",
       " [5, 4, 3, 14, 6, 3, 1, 4, 2],\n",
       " [4, 3, 3, 9, 14, 3, 2, 3, 1],\n",
       " [12, 3, 4, 11, 11, 14, 0, 9, 1],\n",
       " [12, 11, 9, 13, 13, 14, 14, 14, 10],\n",
       " [12, 2, 5, 10, 11, 6, 0, 14, 0],\n",
       " [13, 11, 9, 12, 13, 13, 4, 14, 14]]"
      ]
     },
     "execution_count": 20,
     "metadata": {},
     "output_type": "execute_result"
    }
   ],
   "source": [
    "tables = {}\n",
    "ignore = [# \"webpage\"\n",
    "         #, \"mammography\"\n",
    "         #, \"protein_homo\"\n",
    "         #, \"ozone_level\"\n",
    "         #, \"creditcard\"\n",
    "         ]\n",
    "for a in algs:\n",
    "    tables[a + \" - \" + f1Score] = calcTable(a, f1Score, ignore)\n",
    "    tables[a + \" - \" + kScore] = calcTable(a, kScore, ignore)\n",
    "    \n",
    "tables[algs[0] + \" - \" + f1Score]"
   ]
  },
  {
   "cell_type": "code",
   "execution_count": 21,
   "id": "453f491d",
   "metadata": {
    "scrolled": false
   },
   "outputs": [
    {
     "name": "stdout",
     "output_type": "stream",
     "text": [
      "LR - f1 score\n"
     ]
    },
    {
     "data": {
      "image/png": "[encoded data removed]",
      "text/plain": [
       "<Figure size 504x432 with 2 Axes>"
      ]
     },
     "metadata": {
      "needs_background": "light"
     },
     "output_type": "display_data"
    },
    {
     "name": "stdout",
     "output_type": "stream",
     "text": [
      "LR - cohens kappa score\n"
     ]
    },
    {
     "data": {
      "image/png": "[encoded data removed]",
      "text/plain": [
       "<Figure size 504x432 with 2 Axes>"
      ]
     },
     "metadata": {
      "needs_background": "light"
     },
     "output_type": "display_data"
    },
    {
     "name": "stdout",
     "output_type": "stream",
     "text": [
      "RF - f1 score\n"
     ]
    },
    {
     "data": {
      "image/png": "[encoded data removed]",
      "text/plain": [
       "<Figure size 504x432 with 2 Axes>"
      ]
     },
     "metadata": {
      "needs_background": "light"
     },
     "output_type": "display_data"
    },
    {
     "name": "stdout",
     "output_type": "stream",
     "text": [
      "RF - cohens kappa score\n"
     ]
    },
    {
     "data": {
      "image/png": "[encoded data removed]",
      "text/plain": [
       "<Figure size 504x432 with 2 Axes>"
      ]
     },
     "metadata": {
      "needs_background": "light"
     },
     "output_type": "display_data"
    },
    {
     "name": "stdout",
     "output_type": "stream",
     "text": [
      "GB - f1 score\n"
     ]
    },
    {
     "data": {
      "image/png": "[encoded data removed]",
      "text/plain": [
       "<Figure size 504x432 with 2 Axes>"
      ]
     },
     "metadata": {
      "needs_background": "light"
     },
     "output_type": "display_data"
    },
    {
     "name": "stdout",
     "output_type": "stream",
     "text": [
      "GB - cohens kappa score\n"
     ]
    },
    {
     "data": {
      "image/png": "[encoded data removed]",
      "text/plain": [
       "<Figure size 504x432 with 2 Axes>"
      ]
     },
     "metadata": {
      "needs_background": "light"
     },
     "output_type": "display_data"
    },
    {
     "name": "stdout",
     "output_type": "stream",
     "text": [
      "KNN - f1 score\n"
     ]
    },
    {
     "data": {
      "image/png": "[encoded data removed]",
      "text/plain": [
       "<Figure size 504x432 with 2 Axes>"
      ]
     },
     "metadata": {
      "needs_background": "light"
     },
     "output_type": "display_data"
    },
    {
     "name": "stdout",
     "output_type": "stream",
     "text": [
      "KNN - cohens kappa score\n"
     ]
    },
    {
     "data": {
      "image/png": "[encoded data removed]",
      "text/plain": [
       "<Figure size 504x432 with 2 Axes>"
      ]
     },
     "metadata": {
      "needs_background": "light"
     },
     "output_type": "display_data"
    },
    {
     "name": "stdout",
     "output_type": "stream",
     "text": [
      "DoC - f1 score\n"
     ]
    },
    {
     "data": {
      "image/png": "[encoded data removed]",
      "text/plain": [
       "<Figure size 360x288 with 2 Axes>"
      ]
     },
     "metadata": {
      "needs_background": "light"
     },
     "output_type": "display_data"
    },
    {
     "name": "stdout",
     "output_type": "stream",
     "text": [
      "DoC - cohens kappa score\n"
     ]
    },
    {
     "data": {
      "image/png": "[encoded data removed]",
      "text/plain": [
       "<Figure size 360x288 with 2 Axes>"
      ]
     },
     "metadata": {
      "needs_background": "light"
     },
     "output_type": "display_data"
    }
   ],
   "source": [
    "cmap = matplotlib.colors.ListedColormap([\n",
    "    (1.0, x / 255.0, 0.0)\n",
    "    for x in range(256)\n",
    "    ] + [\n",
    "    ((255 - x) / 255.0, (255 - x) / 255.0, 1.0) # x / 255.0)\n",
    "    for x in range(256)\n",
    "    ])\n",
    "\n",
    "#cmap.set_extremes(bad=cmap(0.0), under=cmap(0.0), over=cmap(1.0))\n",
    "\n",
    "for k in tables.keys():\n",
    "    print(k)\n",
    "    labels = list(gans)\n",
    "    t = tables[k]\n",
    "    if k[0:3] == \"DoC\":\n",
    "        #continue\n",
    "        labels = labels[-4:]\n",
    "        t = [r[-4:] for r in t[-4:]]\n",
    "        f = plt.figure(figsize=(5, 4))\n",
    "        f.add_axes([0.4, 0.45, 0.6, 0.5])\n",
    "    else:\n",
    "        f = plt.figure(figsize=(7, 6))\n",
    "        f.add_axes([0.27, 0.25, 0.7, 0.74])\n",
    "    p = plt.imshow(t, cmap=cmap)\n",
    "    plt.colorbar(p)\n",
    "    plt.xticks(range(len(labels)), labels, rotation=\"vertical\")\n",
    "    plt.yticks(range(len(labels)), labels)\n",
    "    plt.savefig(f\"data_result/statistics/successCount/statistic-{k}.pdf\")\n",
    "    plt.show()"
   ]
  },
  {
   "cell_type": "code",
   "execution_count": 22,
   "id": "e4397945",
   "metadata": {},
   "outputs": [],
   "source": [
    "class Table:\n",
    "    def __init__(self, heading):\n",
    "        self.heading = [str(h) for h in heading]\n",
    "        self.sizes = [len(h) for h in self.heading]\n",
    "        self.rows = []\n",
    "        \n",
    "    def add(self, row):\n",
    "        row = [str(r) for r in row]\n",
    "        self.rows.append(row)\n",
    "        self.sizes = [max(a,len(b)) for (a, b) in zip(self.sizes, row)]\n",
    "        \n",
    "    def separator(self):\n",
    "        return \"|\".join([\"-\" * n for n in self.sizes])\n",
    "    \n",
    "    def showRow(self, row):\n",
    "        def pad(n, t):\n",
    "            while len(t) < n:\n",
    "                t += \" \"\n",
    "            return t\n",
    "        \n",
    "        return \"|\".join([pad(n, t) for (n,t) in zip(self.sizes, row)])\n",
    "    \n",
    "    def show(self):\n",
    "        print(self.showRow(self.heading))\n",
    "        print(self.separator())\n",
    "        for row in self.rows:\n",
    "            print(self.showRow(row))\n",
    "            \n",
    "    def showLatex(self, caption, key):\n",
    "        \n",
    "        columnConfig = \"|\".join([\"l\"] + [\"@{\\\\hskip3pt}c@{\\\\hskip3pt}\" for h in self.heading[1:]])\n",
    "\n",
    "        text = \"\\\\begin{table*}[ht]\\\\scriptsize\"\n",
    "        text += \"\\\\caption{\" + caption + \"}\\\\label{\" + key + \"}\"\n",
    "        text += \"\\\\centering\\\\tabularnewline\\n\"\n",
    "\n",
    "        text += \"\\\\begin{tabular}{\" + columnConfig + \"}\\\\hline\\n\"\n",
    "        text += \" & \".join([\"\\\\textbf{\" + h + \"}\" for h in self.heading])\n",
    "        text += \"\\n\\\\tabularnewline\\n\\\\hline\\n\"\n",
    "        \n",
    "        for row in self.rows:\n",
    "            text += \" & \".join(row)\n",
    "            text += \"\\n\\\\tabularnewline\\n\"\n",
    "            \n",
    "        text += \"\\hline\\end{tabular}\\end{table*}\\n\"\n",
    "        \n",
    "        return text"
   ]
  },
  {
   "cell_type": "code",
   "execution_count": 23,
   "id": "d0e2faa0",
   "metadata": {},
   "outputs": [],
   "source": [
    "def tableRow(algo, dataset, myGans):\n",
    "    row = []\n",
    "    for gan in myGans:\n",
    "        v = getValueOf(gan, dataset, algo, f1Score)\n",
    "        w = getValueOf(gan, dataset, algo, kScore)\n",
    "        row.append((v, w))\n",
    "    return row"
   ]
  },
  {
   "cell_type": "code",
   "execution_count": 24,
   "id": "generic-juice",
   "metadata": {
    "scrolled": false
   },
   "outputs": [],
   "source": [
    "def p(f, bold=False):\n",
    "    if f is None:\n",
    "        text = \"?\"\n",
    "    else:\n",
    "        text = f\"{f:0.3f}\"\n",
    "        \n",
    "    if bold:\n",
    "        return \" \\\\textbf{\" + text + \"} \"\n",
    "    else:\n",
    "        return \" \" + text + \" \"\n",
    "\n",
    "def latex(text):\n",
    "    r = \"\"\n",
    "    for x in text:\n",
    "        if x == \"_\" or x == \"-\":\n",
    "            r += \" \"\n",
    "        else:\n",
    "            r += x\n",
    "    return r\n",
    "\n",
    "def pairMax(row):\n",
    "    a = 0.0\n",
    "    b = 0.0\n",
    "    \n",
    "    for (x,y) in row:\n",
    "        a = max(a, x)\n",
    "        b = max(b, y)\n",
    "    \n",
    "    return (a, b)\n",
    "    \n",
    "with open(\"data_result/statistics/Tables.tex\", \"w\") as latexFile:\n",
    "    for algo in algs:\n",
    "        latexFile.write(\"\\n\")\n",
    "        latexFile.write(\"% ### \" + algo + \"\\n\")\n",
    "        latexFile.write(\"\\n\")\n",
    "        f = \"\"\n",
    "        heading = [\"dataset ($f_1~$score$~/~\\\\kappa~$score)\"]\n",
    "        \n",
    "        myGans = [x for x in gans if not x.startswith(\"ConvGeN\") or x == 'ConvGeN(min,maj)']\n",
    "        if algo[0:3] == \"DoC\":\n",
    "            continue\n",
    "            myGans = list(gans)[-4:]\n",
    "\n",
    "        for g in myGans:\n",
    "            heading.append(latex(g))\n",
    "        table = Table(heading)\n",
    "        \n",
    "        avg = [[0.0, 0.0] for h in heading[1:]]\n",
    "        mx  = [[0.0, 0.0] for h in heading[1:]]\n",
    "        cnt = 0\n",
    "\n",
    "        for d in testSets:\n",
    "            d = cleanupName(d)\n",
    "            if d not in ignore:\n",
    "                cnt += 1\n",
    "                row = tableRow(algo, d, myGans)\n",
    "                line = [latex(d)]\n",
    "\n",
    "                #print((algo, d, myGans))\n",
    "                #print(row)\n",
    "                \n",
    "                m = pairMax(row)\n",
    "\n",
    "                for (n, r) in enumerate(row):\n",
    "                    line.append(f\"{p(r[0], r[0] == m[0])} / {p(r[1], r[1] == m[1])}\")\n",
    "                    avg[n][0] += r[0] or 0.0\n",
    "                    avg[n][1] += r[1] or 0.0\n",
    "                    mx[n][0] = max(mx[n][0], r[0] or 0.0)\n",
    "                    mx[n][1] = max(mx[n][1], r[1] or 0.0)\n",
    "                table.add(line)\n",
    "\n",
    "        m = pairMax(avg)\n",
    "        table.add([\"\\\\hline Average\"] + [f\"{p(a / cnt, a == m[0])} / {p(b / cnt, b == m[1])}\" for (a,b) in avg])\n",
    "        #table.add([\"maximum\"] + [f\"{p(a)} / {p(b)}\" for (a,b) in mx])\n",
    "\n",
    "        latexFile.write(table.showLatex(algo, \"tab:results:\" + algo + \":A\") + \"\\n\")\n",
    "\n"
   ]
  },
  {
   "cell_type": "code",
   "execution_count": 25,
   "id": "bronze-pearl",
   "metadata": {},
   "outputs": [],
   "source": [
    "    \n",
    "with open(\"data_result/statistics/TablesConvGeN.tex\", \"w\") as latexFile:\n",
    "    for algo in algs:\n",
    "        latexFile.write(\"\\n\")\n",
    "        latexFile.write(\"% ### \" + algo + \"\\n\")\n",
    "        latexFile.write(\"\\n\")\n",
    "        f = \"\"\n",
    "        heading = [\"dataset ($f_1~$score$~/~\\\\kappa~$score)\"]\n",
    "        \n",
    "        myGans = [x for x in gans if x.startswith(\"ConvGeN\")]\n",
    "\n",
    "        for g in myGans:\n",
    "            heading.append(latex(g))\n",
    "        table = Table(heading)\n",
    "        \n",
    "        avg = [[0.0, 0.0] for h in heading[1:]]\n",
    "        mx  = [[0.0, 0.0] for h in heading[1:]]\n",
    "        cnt = 0\n",
    "\n",
    "        for d in testSets:\n",
    "            d = cleanupName(d)\n",
    "            if d not in ignore:\n",
    "                cnt += 1\n",
    "                row = tableRow(algo, d, myGans)\n",
    "                line = [latex(d)]\n",
    "\n",
    "                #print((algo, d, myGans))\n",
    "                #print(row)\n",
    "                \n",
    "                m = pairMax(row)\n",
    "\n",
    "                for (n, r) in enumerate(row):\n",
    "                    line.append(f\"{p(r[0], r[0] == m[0])} / {p(r[1], r[1] == m[1])}\")\n",
    "                    avg[n][0] += r[0] or 0.0\n",
    "                    avg[n][1] += r[1] or 0.0\n",
    "                    mx[n][0] = max(mx[n][0], r[0] or 0.0)\n",
    "                    mx[n][1] = max(mx[n][1], r[1] or 0.0)\n",
    "                table.add(line)\n",
    "\n",
    "        m = pairMax(avg)\n",
    "        table.add([\"\\\\hline Average\"] + [f\"{p(a / cnt, a == m[0])} / {p(b / cnt, b == m[1])}\" for (a,b) in avg])\n",
    "\n",
    "        latexFile.write(table.showLatex(algo, \"tab:results:\" + algo + \":A\") + \"\\n\")\n",
    "\n"
   ]
  },
  {
   "cell_type": "code",
   "execution_count": 26,
   "id": "bearing-strengthening",
   "metadata": {},
   "outputs": [
    {
     "name": "stdout",
     "output_type": "stream",
     "text": [
      "% ### LR\n",
      "% ### RF\n",
      "% ### GB\n",
      "% ### KNN\n",
      "% ### DoC\n"
     ]
    }
   ],
   "source": [
    "for algo in algs:\n",
    "    print(\"% ### \" + algo)\n",
    "    heading = [\"dataset\"]\n",
    "    for g in gans:\n",
    "        if filterConvGen(g):\n",
    "            heading.append(g)\n",
    "    table = []\n",
    "    \n",
    "    avg = [[0.0, 0.0] for h in heading[1:]]\n",
    "    cnt = 0\n",
    "    \n",
    "    for d in testSets:\n",
    "        d = cleanupName(d)\n",
    "        if d not in ignore:\n",
    "            cnt += 1\n",
    "            row = tableRow(algo, d, heading[1:])\n",
    "            table.append([(d,d)] + row)\n",
    "\n",
    "            for (n, r) in enumerate(row):\n",
    "                avg[n][0] += r[0] or 0.0\n",
    "                avg[n][1] += r[1] or 0.0\n",
    "    \n",
    "    table.append([(\"Average\", \"Average\")] + [(a / cnt, b / cnt) for (a,b) in avg])\n",
    "    \n",
    "    with open(f\"data_result/statistics/{algo}-f1.csv\", \"w\") as f:\n",
    "        f.write((\";\".join(heading)) + \"\\n\")\n",
    "        for row in table:\n",
    "            f.write((\";\".join([str(x[0]) for x in row])) + \"\\n\")\n",
    "\n",
    "    with open(f\"data_result/statistics/{algo}-kappa.csv\", \"w\") as f:\n",
    "        f.write((\";\".join(heading)) + \"\\n\")\n",
    "        for row in table:\n",
    "            f.write((\";\".join([str(x[1]) for x in row])) + \"\\n\")\n"
   ]
  },
  {
   "cell_type": "markdown",
   "id": "581f1134",
   "metadata": {},
   "source": [
    "def dsWeight(d, score):\n",
    "    w = 0.0\n",
    "    for g in gans:\n",
    "        for a in algs:\n",
    "            x = getValueOf(g, d, a, score)\n",
    "            if x is not None:\n",
    "                w += x\n",
    "    return w\n",
    "\n",
    "\n",
    "\n",
    "dataNames = [cleanupName(d) for d in testSets]\n",
    "dataNames.sort(key=lambda d: dsWeight(d, f1Score) + dsWeight(d, kScore))\n",
    "for d in dataNames:\n",
    "    w = dsWeight(d, f1Score) + dsWeight(d, kScore)\n",
    "    print(f\"{w:0.3f} - {d}\")"
   ]
  }
 ],
 "metadata": {
  "kernelspec": {
   "display_name": "Python 3",
   "language": "python",
   "name": "python3"
  },
  "language_info": {
   "codemirror_mode": {
    "name": "ipython",
    "version": 3
   },
   "file_extension": ".py",
   "mimetype": "text/x-python",
   "name": "python",
   "nbconvert_exporter": "python",
   "pygments_lexer": "ipython3",
   "version": "3.8.5"
  }
 },
 "nbformat": 4,
 "nbformat_minor": 5
}
