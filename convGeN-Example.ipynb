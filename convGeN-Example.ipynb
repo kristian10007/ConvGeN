{
 "cells": [
  {
   "cell_type": "code",
   "execution_count": 1,
   "id": "b9b5254c",
   "metadata": {},
   "outputs": [],
   "source": [
    "from library.analysis import loadDataset, testSets\n",
    "from library.generators.ConvGeN import ConvGeN"
   ]
  },
  {
   "cell_type": "code",
   "execution_count": 2,
   "id": "e2dd116d",
   "metadata": {},
   "outputs": [
    {
     "name": "stdout",
     "output_type": "stream",
     "text": [
      "Load 'folding_flare-F'\n",
      "from pickle file\n",
      "non empty cut in folding_flare-F! (70 points)\n",
      "Data loaded.\n"
     ]
    }
   ],
   "source": [
    "data = loadDataset(testSets[4])"
   ]
  },
  {
   "cell_type": "code",
   "execution_count": 3,
   "id": "6d686da5",
   "metadata": {},
   "outputs": [
    {
     "name": "stdout",
     "output_type": "stream",
     "text": [
      "(1066, 1023, 43)\n"
     ]
    }
   ],
   "source": [
    "print((len(data.data), len(data.data0), len(data.data1)))"
   ]
  },
  {
   "cell_type": "code",
   "execution_count": 4,
   "id": "01d71d6a",
   "metadata": {},
   "outputs": [],
   "source": [
    "gen = ConvGeN(data.data0.shape[1], neb=5)"
   ]
  },
  {
   "cell_type": "code",
   "execution_count": 5,
   "id": "ad01be2b",
   "metadata": {},
   "outputs": [],
   "source": [
    "gen.reset(data)"
   ]
  },
  {
   "cell_type": "code",
   "execution_count": 6,
   "id": "4698522c",
   "metadata": {},
   "outputs": [],
   "source": [
    "gen.train(data)"
   ]
  },
  {
   "cell_type": "code",
   "execution_count": 7,
   "id": "cda17654",
   "metadata": {},
   "outputs": [],
   "source": [
    "syntheticPoints = gen.generateData(10)"
   ]
  },
  {
   "cell_type": "code",
   "execution_count": 8,
   "id": "41853bd3",
   "metadata": {},
   "outputs": [
    {
     "data": {
      "text/plain": [
       "array([[1.9999971 , 0.82202756, 0.49161404, 1.1779697 , 0.        ,\n",
       "        0.99999857, 0.99999857, 0.99999857, 0.313643  , 0.        ,\n",
       "        0.        ],\n",
       "       [0.9483413 , 0.99999917, 0.        , 0.99999917, 0.        ,\n",
       "        0.99999917, 0.99999917, 0.        , 3.9999967 , 0.        ,\n",
       "        0.        ],\n",
       "       [0.        , 0.3485548 , 0.84628767, 0.9999995 , 0.        ,\n",
       "        0.9999995 , 0.9999995 , 0.        , 0.8051566 , 0.        ,\n",
       "        0.        ],\n",
       "       [0.        , 0.99999964, 0.90224695, 1.1576508 , 0.        ,\n",
       "        0.99999964, 0.99999964, 0.        , 0.        , 0.        ,\n",
       "        0.        ],\n",
       "       [1.9999989 , 0.48536825, 0.99999946, 1.5146307 , 0.70072913,\n",
       "        0.99999946, 0.99999946, 0.99999946, 0.8357328 , 0.        ,\n",
       "        0.        ],\n",
       "       [1.9999907 , 0.        , 0.99999535, 1.9999907 , 0.        ,\n",
       "        0.99999535, 0.99999535, 0.99999535, 0.        , 0.        ,\n",
       "        0.        ],\n",
       "       [0.        , 0.9999988 , 0.        , 0.9999988 , 0.        ,\n",
       "        0.9999988 , 0.9999988 , 0.        , 1.7140688 , 0.        ,\n",
       "        0.        ],\n",
       "       [1.9999973 , 0.        , 0.9999986 , 0.9999986 , 0.        ,\n",
       "        0.9999986 , 0.9999986 , 0.        , 3.9999945 , 0.        ,\n",
       "        0.        ],\n",
       "       [3.291949  , 0.9999985 , 0.29195344, 0.9999985 , 0.        ,\n",
       "        0.9999985 , 0.9999985 , 0.        , 0.70804507, 0.        ,\n",
       "        0.        ],\n",
       "       [0.        , 0.9999995 , 0.05166833, 0.32977083, 0.        ,\n",
       "        0.9999995 , 0.9999995 , 0.        , 0.08435939, 0.        ,\n",
       "        0.        ]], dtype=float32)"
      ]
     },
     "execution_count": 8,
     "metadata": {},
     "output_type": "execute_result"
    }
   ],
   "source": [
    "syntheticPoints"
   ]
  }
 ],
 "metadata": {
  "kernelspec": {
   "display_name": "Python 3",
   "language": "python",
   "name": "python3"
  },
  "language_info": {
   "codemirror_mode": {
    "name": "ipython",
    "version": 3
   },
   "file_extension": ".py",
   "mimetype": "text/x-python",
   "name": "python",
   "nbconvert_exporter": "python",
   "pygments_lexer": "ipython3",
   "version": "3.8.5"
  }
 },
 "nbformat": 4,
 "nbformat_minor": 5
}
